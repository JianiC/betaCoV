{
 "cells": [
  {
   "cell_type": "markdown",
   "metadata": {},
   "source": [
    "### rename sequence id "
   ]
  },
  {
   "cell_type": "code",
   "execution_count": 15,
   "metadata": {},
   "outputs": [],
   "source": [
    "from Bio import SeqIO\n",
    "import os,sys\n",
    "import pandas as pd\n",
    "import phylopandas as ph"
   ]
  },
  {
   "cell_type": "code",
   "execution_count": 16,
   "metadata": {},
   "outputs": [],
   "source": [
    "def taxa(meta_file,fasta_file):\n",
    "    meta = pd.read_csv(meta_file)\n",
    "    \n",
    "    df = ph.read_fasta(fasta_file)\n",
    "    df = df.filter(['id','sequence'], axis=1)\n",
    "    df[['Accession','version']] = df.id.str.split(\".\",expand=True) \n",
    "    df = df.filter(['Accession','sequence'])\n",
    "    \n",
    "    fasta=pd.merge(df, meta, how='left', left_on='Accession', right_on='Accession')\n",
    "    fasta['taxa']=fasta.apply(lambda x:'%s|%s|%s|%s' % (x['Accession'],x['Species_code'],x['Host_code'],x['Collection_Date']),axis=1)\n",
    "    fasta=fasta.filter(['taxa','sequence'], axis=1)\n",
    "    fasta.to_csv(\"temp.tab\", sep=\"\\t\",index = False,header=False)\n",
    "    fasta = SeqIO.parse(\"temp.tab\", \"tab\")\n",
    "    SeqIO.write(fasta, \"taxa_\"+fasta_file, \"fasta\")\n",
    "    os.remove(\"temp.tab\")\n",
    "    print(\"All taxa in \"+ fasta_file + \" have been renamed!\")\n",
    "    \n",
    "\n",
    "   "
   ]
  },
  {
   "cell_type": "code",
   "execution_count": 17,
   "metadata": {},
   "outputs": [
    {
     "name": "stdout",
     "output_type": "stream",
     "text": [
      "All taxa in rmS.fasta have been renamed!\n"
     ]
    }
   ],
   "source": [
    "taxa('BetaCoV_meta_code.csv',\"rmS.fasta\")"
   ]
  },
  {
   "cell_type": "code",
   "execution_count": 18,
   "metadata": {},
   "outputs": [
    {
     "name": "stdout",
     "output_type": "stream",
     "text": [
      "All taxa in rmORF1ab.fasta have been renamed!\n"
     ]
    }
   ],
   "source": [
    "taxa('BetaCoV_meta_code.csv',\"rmORF1ab.fasta\")"
   ]
  },
  {
   "cell_type": "code",
   "execution_count": 19,
   "metadata": {},
   "outputs": [
    {
     "name": "stdout",
     "output_type": "stream",
     "text": [
      "All taxa in rmM.fasta have been renamed!\n"
     ]
    }
   ],
   "source": [
    "taxa('BetaCoV_meta_code.csv',\"rmM.fasta\")"
   ]
  },
  {
   "cell_type": "code",
   "execution_count": 20,
   "metadata": {},
   "outputs": [
    {
     "name": "stdout",
     "output_type": "stream",
     "text": [
      "All taxa in rmE.fasta have been renamed!\n"
     ]
    }
   ],
   "source": [
    "taxa('BetaCoV_meta_code.csv',\"rmE.fasta\")"
   ]
  },
  {
   "cell_type": "code",
   "execution_count": 21,
   "metadata": {},
   "outputs": [
    {
     "name": "stdout",
     "output_type": "stream",
     "text": [
      "All taxa in rmN.fasta have been renamed!\n"
     ]
    }
   ],
   "source": [
    "taxa('BetaCoV_meta_code.csv',\"rmN.fasta\")"
   ]
  },
  {
   "cell_type": "code",
   "execution_count": 22,
   "metadata": {},
   "outputs": [
    {
     "name": "stdout",
     "output_type": "stream",
     "text": [
      "All taxa in rmORF3a.fasta have been renamed!\n"
     ]
    }
   ],
   "source": [
    "taxa('BetaCoV_meta_code.csv',\"rmORF3a.fasta\")"
   ]
  },
  {
   "cell_type": "code",
   "execution_count": 23,
   "metadata": {},
   "outputs": [
    {
     "name": "stdout",
     "output_type": "stream",
     "text": [
      "All taxa in rmORF6a.fasta have been renamed!\n"
     ]
    }
   ],
   "source": [
    "taxa('BetaCoV_meta_code.csv',\"rmORF6a.fasta\")"
   ]
  },
  {
   "cell_type": "code",
   "execution_count": 24,
   "metadata": {},
   "outputs": [
    {
     "name": "stdout",
     "output_type": "stream",
     "text": [
      "All taxa in rmORF7a.fasta have been renamed!\n"
     ]
    }
   ],
   "source": [
    "taxa('BetaCoV_meta_code.csv',\"rmORF7a.fasta\")"
   ]
  },
  {
   "cell_type": "code",
   "execution_count": 25,
   "metadata": {},
   "outputs": [
    {
     "name": "stdout",
     "output_type": "stream",
     "text": [
      "All taxa in rmORF7b.fasta have been renamed!\n"
     ]
    }
   ],
   "source": [
    "taxa('BetaCoV_meta_code.csv',\"rmORF7b.fasta\")"
   ]
  },
  {
   "cell_type": "code",
   "execution_count": 26,
   "metadata": {},
   "outputs": [
    {
     "name": "stdout",
     "output_type": "stream",
     "text": [
      "All taxa in rmORF8.fasta have been renamed!\n"
     ]
    }
   ],
   "source": [
    "taxa('BetaCoV_meta_code.csv',\"rmORF8.fasta\")"
   ]
  },
  {
   "cell_type": "code",
   "execution_count": 27,
   "metadata": {},
   "outputs": [
    {
     "name": "stdout",
     "output_type": "stream",
     "text": [
      "All taxa in rmORF10.fasta have been renamed!\n"
     ]
    }
   ],
   "source": [
    "taxa('BetaCoV_meta_code.csv',\"rmORF10.fasta\")"
   ]
  },
  {
   "cell_type": "code",
   "execution_count": null,
   "metadata": {},
   "outputs": [],
   "source": []
  }
 ],
 "metadata": {
  "kernelspec": {
   "display_name": "Python 3",
   "language": "python",
   "name": "python3"
  },
  "language_info": {
   "codemirror_mode": {
    "name": "ipython",
    "version": 3
   },
   "file_extension": ".py",
   "mimetype": "text/x-python",
   "name": "python",
   "nbconvert_exporter": "python",
   "pygments_lexer": "ipython3",
   "version": "3.7.6"
  }
 },
 "nbformat": 4,
 "nbformat_minor": 4
}
