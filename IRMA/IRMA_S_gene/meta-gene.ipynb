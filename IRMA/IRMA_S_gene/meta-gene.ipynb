{
 "cells": [
  {
   "cell_type": "code",
   "execution_count": 2,
   "metadata": {},
   "outputs": [],
   "source": [
    "from Bio import SeqIO\n",
    "import os,sys\n",
    "import pandas as pd\n",
    "import phylopandas as ph"
   ]
  },
  {
   "cell_type": "code",
   "execution_count": 103,
   "metadata": {},
   "outputs": [],
   "source": [
    "\n",
    "def getgene(fasta_file, anno_list):\n",
    "    f = open(fasta_file, \"w\")\n",
    "    for rec in SeqIO.parse(\"BetaCoV_0529.gb\", \"gb\"):\n",
    "        for feature in rec.features:\n",
    "            for key, val in feature.qualifiers.items():\n",
    "                if feature.type == \"CDS\":\n",
    "                    if any (s in val for s in anno_list):\n",
    "                        print (\">\" + rec.id, file=f )\n",
    "                        print (feature.location.extract(rec).seq,file=f)\n",
    "    f.close()"
   ]
  },
  {
   "cell_type": "code",
   "execution_count": 104,
   "metadata": {},
   "outputs": [],
   "source": [
    "def duplicate_remover(fasta_file):\n",
    "    df = ph.read_fasta(fasta_file)\n",
    "    df = df.filter(['id','sequence'], axis=1)\n",
    "    df = df.drop_duplicates()\n",
    "    df.to_csv(\"temp.tab\", sep=\"\\t\",index = False,header=False)\n",
    "    df2= SeqIO.parse(\"temp.tab\", \"tab\")\n",
    "    SeqIO.write(df2, \"rm\"+fasta_file, \"fasta\")\n",
    "    os.remove(\"temp.tab\")\n",
    "    print(\"duplicate records removed!\\n\"+ str(len(df.index))+\" unique records saved from \" + fasta_file)"
   ]
  },
  {
   "cell_type": "code",
   "execution_count": 5,
   "metadata": {},
   "outputs": [
    {
     "name": "stderr",
     "output_type": "stream",
     "text": [
      "/Users/jianichen1/opt/anaconda3/lib/python3.7/site-packages/IPython/core/interactiveshell.py:3063: DtypeWarning: Columns (8) have mixed types.Specify dtype option on import or set low_memory=False.\n",
      "  interactivity=interactivity, compiler=compiler, result=result)\n"
     ]
    },
    {
     "data": {
      "text/html": [
       "<div>\n",
       "<style scoped>\n",
       "    .dataframe tbody tr th:only-of-type {\n",
       "        vertical-align: middle;\n",
       "    }\n",
       "\n",
       "    .dataframe tbody tr th {\n",
       "        vertical-align: top;\n",
       "    }\n",
       "\n",
       "    .dataframe thead th {\n",
       "        text-align: right;\n",
       "    }\n",
       "</style>\n",
       "<table border=\"1\" class=\"dataframe\">\n",
       "  <thead>\n",
       "    <tr style=\"text-align: right;\">\n",
       "      <th></th>\n",
       "      <th>Sequence Name</th>\n",
       "      <th>Type</th>\n",
       "      <th>Minimum</th>\n",
       "      <th>Maximum</th>\n",
       "      <th>Length</th>\n",
       "      <th># Intervals</th>\n",
       "      <th>Direction</th>\n",
       "      <th>Sequence (with extension)</th>\n",
       "      <th>Length (with extension)</th>\n",
       "    </tr>\n",
       "    <tr>\n",
       "      <th>Name</th>\n",
       "      <th></th>\n",
       "      <th></th>\n",
       "      <th></th>\n",
       "      <th></th>\n",
       "      <th></th>\n",
       "      <th></th>\n",
       "      <th></th>\n",
       "      <th></th>\n",
       "      <th></th>\n",
       "    </tr>\n",
       "  </thead>\n",
       "  <tbody>\n",
       "    <tr>\n",
       "      <th>1 CDS</th>\n",
       "      <td>13</td>\n",
       "      <td>13</td>\n",
       "      <td>13</td>\n",
       "      <td>13</td>\n",
       "      <td>13</td>\n",
       "      <td>13</td>\n",
       "      <td>13</td>\n",
       "      <td>0</td>\n",
       "      <td>0</td>\n",
       "    </tr>\n",
       "    <tr>\n",
       "      <th>10.1 kDa nonstructural protein CDS</th>\n",
       "      <td>1</td>\n",
       "      <td>1</td>\n",
       "      <td>1</td>\n",
       "      <td>1</td>\n",
       "      <td>1</td>\n",
       "      <td>1</td>\n",
       "      <td>1</td>\n",
       "      <td>0</td>\n",
       "      <td>0</td>\n",
       "    </tr>\n",
       "    <tr>\n",
       "      <th>12.6 kD nonstructural protein CDS</th>\n",
       "      <td>2</td>\n",
       "      <td>2</td>\n",
       "      <td>2</td>\n",
       "      <td>2</td>\n",
       "      <td>2</td>\n",
       "      <td>2</td>\n",
       "      <td>2</td>\n",
       "      <td>0</td>\n",
       "      <td>0</td>\n",
       "    </tr>\n",
       "    <tr>\n",
       "      <th>12.7 kD non-structural protein CDS</th>\n",
       "      <td>5</td>\n",
       "      <td>5</td>\n",
       "      <td>5</td>\n",
       "      <td>5</td>\n",
       "      <td>5</td>\n",
       "      <td>5</td>\n",
       "      <td>5</td>\n",
       "      <td>0</td>\n",
       "      <td>0</td>\n",
       "    </tr>\n",
       "    <tr>\n",
       "      <th>12.7 kDa accessory protein CDS</th>\n",
       "      <td>1</td>\n",
       "      <td>1</td>\n",
       "      <td>1</td>\n",
       "      <td>1</td>\n",
       "      <td>1</td>\n",
       "      <td>1</td>\n",
       "      <td>1</td>\n",
       "      <td>0</td>\n",
       "      <td>0</td>\n",
       "    </tr>\n",
       "    <tr>\n",
       "      <th>...</th>\n",
       "      <td>...</td>\n",
       "      <td>...</td>\n",
       "      <td>...</td>\n",
       "      <td>...</td>\n",
       "      <td>...</td>\n",
       "      <td>...</td>\n",
       "      <td>...</td>\n",
       "      <td>...</td>\n",
       "      <td>...</td>\n",
       "    </tr>\n",
       "    <tr>\n",
       "      <th>unnamed protein product; orf3a CDS</th>\n",
       "      <td>1</td>\n",
       "      <td>1</td>\n",
       "      <td>1</td>\n",
       "      <td>1</td>\n",
       "      <td>1</td>\n",
       "      <td>1</td>\n",
       "      <td>1</td>\n",
       "      <td>0</td>\n",
       "      <td>0</td>\n",
       "    </tr>\n",
       "    <tr>\n",
       "      <th>unnamed protein product; orf3b CDS</th>\n",
       "      <td>1</td>\n",
       "      <td>1</td>\n",
       "      <td>1</td>\n",
       "      <td>1</td>\n",
       "      <td>1</td>\n",
       "      <td>1</td>\n",
       "      <td>1</td>\n",
       "      <td>0</td>\n",
       "      <td>0</td>\n",
       "    </tr>\n",
       "    <tr>\n",
       "      <th>unnamed protein product; orf6 CDS</th>\n",
       "      <td>1</td>\n",
       "      <td>1</td>\n",
       "      <td>1</td>\n",
       "      <td>1</td>\n",
       "      <td>1</td>\n",
       "      <td>1</td>\n",
       "      <td>1</td>\n",
       "      <td>0</td>\n",
       "      <td>0</td>\n",
       "    </tr>\n",
       "    <tr>\n",
       "      <th>unnamed protein product; rat XT-2 CDS</th>\n",
       "      <td>1</td>\n",
       "      <td>1</td>\n",
       "      <td>1</td>\n",
       "      <td>1</td>\n",
       "      <td>1</td>\n",
       "      <td>1</td>\n",
       "      <td>1</td>\n",
       "      <td>0</td>\n",
       "      <td>0</td>\n",
       "    </tr>\n",
       "    <tr>\n",
       "      <th>unnamed protein product; rat XT-I CDS</th>\n",
       "      <td>1</td>\n",
       "      <td>1</td>\n",
       "      <td>1</td>\n",
       "      <td>1</td>\n",
       "      <td>1</td>\n",
       "      <td>1</td>\n",
       "      <td>1</td>\n",
       "      <td>0</td>\n",
       "      <td>0</td>\n",
       "    </tr>\n",
       "  </tbody>\n",
       "</table>\n",
       "<p>629 rows × 9 columns</p>\n",
       "</div>"
      ],
      "text/plain": [
       "                                       Sequence Name  Type  Minimum  Maximum  \\\n",
       "Name                                                                           \n",
       "1 CDS                                             13    13       13       13   \n",
       "10.1 kDa nonstructural protein CDS                 1     1        1        1   \n",
       "12.6 kD nonstructural protein CDS                  2     2        2        2   \n",
       "12.7 kD non-structural protein CDS                 5     5        5        5   \n",
       "12.7 kDa accessory protein CDS                     1     1        1        1   \n",
       "...                                              ...   ...      ...      ...   \n",
       "unnamed protein product; orf3a CDS                 1     1        1        1   \n",
       "unnamed protein product; orf3b CDS                 1     1        1        1   \n",
       "unnamed protein product; orf6 CDS                  1     1        1        1   \n",
       "unnamed protein product; rat XT-2 CDS              1     1        1        1   \n",
       "unnamed protein product; rat XT-I CDS              1     1        1        1   \n",
       "\n",
       "                                       Length  # Intervals  Direction  \\\n",
       "Name                                                                    \n",
       "1 CDS                                      13           13         13   \n",
       "10.1 kDa nonstructural protein CDS          1            1          1   \n",
       "12.6 kD nonstructural protein CDS           2            2          2   \n",
       "12.7 kD non-structural protein CDS          5            5          5   \n",
       "12.7 kDa accessory protein CDS              1            1          1   \n",
       "...                                       ...          ...        ...   \n",
       "unnamed protein product; orf3a CDS          1            1          1   \n",
       "unnamed protein product; orf3b CDS          1            1          1   \n",
       "unnamed protein product; orf6 CDS           1            1          1   \n",
       "unnamed protein product; rat XT-2 CDS       1            1          1   \n",
       "unnamed protein product; rat XT-I CDS       1            1          1   \n",
       "\n",
       "                                       Sequence (with extension)  \\\n",
       "Name                                                               \n",
       "1 CDS                                                          0   \n",
       "10.1 kDa nonstructural protein CDS                             0   \n",
       "12.6 kD nonstructural protein CDS                              0   \n",
       "12.7 kD non-structural protein CDS                             0   \n",
       "12.7 kDa accessory protein CDS                                 0   \n",
       "...                                                          ...   \n",
       "unnamed protein product; orf3a CDS                             0   \n",
       "unnamed protein product; orf3b CDS                             0   \n",
       "unnamed protein product; orf6 CDS                              0   \n",
       "unnamed protein product; rat XT-2 CDS                          0   \n",
       "unnamed protein product; rat XT-I CDS                          0   \n",
       "\n",
       "                                       Length (with extension)  \n",
       "Name                                                            \n",
       "1 CDS                                                        0  \n",
       "10.1 kDa nonstructural protein CDS                           0  \n",
       "12.6 kD nonstructural protein CDS                            0  \n",
       "12.7 kD non-structural protein CDS                           0  \n",
       "12.7 kDa accessory protein CDS                               0  \n",
       "...                                                        ...  \n",
       "unnamed protein product; orf3a CDS                           0  \n",
       "unnamed protein product; orf3b CDS                           0  \n",
       "unnamed protein product; orf6 CDS                            0  \n",
       "unnamed protein product; rat XT-2 CDS                        0  \n",
       "unnamed protein product; rat XT-I CDS                        0  \n",
       "\n",
       "[629 rows x 9 columns]"
      ]
     },
     "execution_count": 5,
     "metadata": {},
     "output_type": "execute_result"
    }
   ],
   "source": [
    "## process annotation table \n",
    "\n",
    "ano = pd.read_csv('BetaCoV_0529 Annotations.csv')\n",
    "CDS = ano.loc[ano['Type'] == 'CDS']\n",
    "CDS_name = CDS.groupby(['Name']).count()\n",
    "CDS_name"
   ]
  },
  {
   "cell_type": "code",
   "execution_count": 6,
   "metadata": {},
   "outputs": [],
   "source": [
    "\n",
    "CDS_name.to_csv(\"CDSname_0529.csv\")"
   ]
  },
  {
   "cell_type": "code",
   "execution_count": 105,
   "metadata": {},
   "outputs": [],
   "source": [
    "S={'S',\n",
    "'spike protein',\n",
    "'S protein',\n",
    "'spike glycoprotein',\n",
    "'spike glycoprotein precursor',\n",
    "'spike',\n",
    "'membrane glycoprotein',\n",
    "'spike glycoprotein S',\n",
    "'putative spike glycoprotein',\n",
    "'Spike protein',\n",
    "'putative E2 glycoprotein precursor',\n",
    "'spike surface glycoprotein',\n",
    "'S glycoprotein',\n",
    "'S peplomer polypeptide precursor',\n",
    "'membrane associated glycoprotein E2 precursor',\n",
    "'putative spike glycoprotein S',\n",
    "'spike glycoprotein (S)',\n",
    "'spike structural protein',\n",
    "'surface glycoprotein S',\n",
    "'surface projection glycoprotein' }"
   ]
  },
  {
   "cell_type": "code",
   "execution_count": 106,
   "metadata": {},
   "outputs": [],
   "source": [
    "getgene(\"S_0529.fasta\",S)"
   ]
  },
  {
   "cell_type": "code",
   "execution_count": 107,
   "metadata": {},
   "outputs": [
    {
     "name": "stdout",
     "output_type": "stream",
     "text": [
      "duplicate records removed!\n",
      "11799 unique records saved from S_0529.fasta\n"
     ]
    }
   ],
   "source": [
    "\n",
    "duplicate_remover(\"S_0529.fasta\")"
   ]
  },
  {
   "cell_type": "code",
   "execution_count": 108,
   "metadata": {},
   "outputs": [
    {
     "name": "stdout",
     "output_type": "stream",
     "text": [
      "7518\n"
     ]
    }
   ],
   "source": [
    "\n",
    "## duplicate S need to be further removed, the shorter one will be removed\n",
    "\n",
    "df = ph.read_fasta(\"rmS_0529.fasta\")\n",
    "df['seq_length'] = df['sequence'].str.len()\n",
    "##sort by length\n",
    "df = df.sort_values('seq_length')\n",
    "## keep the last one with the identical id\n",
    "df = df.drop_duplicates(subset='id',keep = \"last\") \n",
    "df = df.filter(['id','sequence'], axis=1)\n",
    "print(len(df.index))\n",
    "df.to_csv(\"temp.tab\", sep=\"\\t\",index = False,header=False)\n",
    "df2= SeqIO.parse(\"temp.tab\", \"tab\")\n",
    "SeqIO.write(df2, \"rm2S_0529.fasta\", \"fasta\")\n",
    "os.remove(\"temp.tab\")"
   ]
  },
  {
   "cell_type": "code",
   "execution_count": 109,
   "metadata": {},
   "outputs": [],
   "source": [
    "\n",
    "## filter by length and propotion of \"N\"\n",
    "## the minimal length of sequence\n",
    "\n",
    "##from https://biopython.org/wiki/Sequence_Cleaner\n",
    "def sequence_cleaner(fasta_file, min_length=0, por_n=100):\n",
    "    output_file = open(\"clear_\" + fasta_file, \"w\")\n",
    "\n",
    "    for seq_record in SeqIO.parse(fasta_file, \"fasta\"):\n",
    "        if (len(seq_record.seq) >= min_length and (float((seq_record.seq).count(\"N\"))/float(len(seq_record.seq)))*100 <= por_n):\n",
    "            output_file.write(\">\" + seq_record.id + \"\\n\" + str(seq_record.seq) + \"\\n\")\n",
    "\n",
    "    print(\"CLEAN!!!\\nPlease check clear_\" + fasta_file)"
   ]
  },
  {
   "cell_type": "code",
   "execution_count": 110,
   "metadata": {},
   "outputs": [
    {
     "name": "stdout",
     "output_type": "stream",
     "text": [
      "CLEAN!!!\n",
      "Please check clear_rm2S_0529.fasta\n"
     ]
    }
   ],
   "source": [
    "sequence_cleaner(\"rm2S_0529.fasta\",2000,50)"
   ]
  },
  {
   "cell_type": "code",
   "execution_count": 111,
   "metadata": {},
   "outputs": [],
   "source": [
    "## get metadata table for S gene\n",
    "meta = pd.read_csv(\"BetaCoV_0529.csv\")\n",
    "    \n",
    "df = ph.read_fasta(\"clear_rm2S_0529.fasta\")\n",
    "df = df.filter(['id','sequence'], axis=1)\n",
    "df[['Accession','version']] = df.id.str.split(\".\",expand=True)\n",
    "fasta=pd.merge(df, meta, how='left', left_on='Accession', right_on='Accession')\n",
    "fasta=fasta.drop(columns=['sequence'])\n",
    "fasta.to_csv(\"BetaCoV_S_0529.csv\",index = False)"
   ]
  },
  {
   "cell_type": "code",
   "execution_count": 112,
   "metadata": {},
   "outputs": [],
   "source": [
    "def irma_species(excel_file, fasta_file):\n",
    "    seq = ph.read_fasta(\"clear_rm2S_0529.fasta\")\n",
    "    seq = seq.filter(['id','sequence'], axis=1)\n",
    "    df = pd.read_excel(excel_file, header = None)\n",
    "    df.rename(columns ={0: 'id'}, inplace =True)\n",
    "\n",
    "    fasta =pd.merge(df, seq, how='left', left_on='id', right_on='id')\n",
    "    fasta = fasta.filter(['id','sequence'], axis=1)\n",
    "    fasta=fasta.dropna(subset=['sequence'])\n",
    "\n",
    "    num=fasta\n",
    "    fasta.to_csv(\"temp.tab\", sep=\"\\t\",index = False,header=False)\n",
    "    df2= SeqIO.parse(\"temp.tab\", \"tab\")\n",
    "    SeqIO.write(df2, fasta_file, \"fasta\")\n",
    "    os.remove(\"temp.tab\")\n",
    "    print(str(len(num.index)) + \" in \" + fasta_file)"
   ]
  },
  {
   "cell_type": "code",
   "execution_count": 113,
   "metadata": {},
   "outputs": [
    {
     "name": "stdout",
     "output_type": "stream",
     "text": [
      "58 in HKU1.fasta\n"
     ]
    }
   ],
   "source": [
    "irma_species(\"HKU1.xlsx\",\"HKU1.fasta\")"
   ]
  },
  {
   "cell_type": "code",
   "execution_count": 114,
   "metadata": {},
   "outputs": [
    {
     "name": "stdout",
     "output_type": "stream",
     "text": [
      "24 in HKU4.fasta\n"
     ]
    }
   ],
   "source": [
    "irma_species(\"HKU4.xlsx\",\"HKU4.fasta\")"
   ]
  },
  {
   "cell_type": "code",
   "execution_count": 115,
   "metadata": {},
   "outputs": [
    {
     "name": "stdout",
     "output_type": "stream",
     "text": [
      "25 in HKU5.fasta\n"
     ]
    }
   ],
   "source": [
    "irma_species(\"HKU5.xlsx\",\"HKU5.fasta\")"
   ]
  },
  {
   "cell_type": "code",
   "execution_count": 136,
   "metadata": {},
   "outputs": [
    {
     "name": "stdout",
     "output_type": "stream",
     "text": [
      "10 in HKU9.fasta\n"
     ]
    }
   ],
   "source": [
    "irma_species(\"HKU9.xlsx\",\"HKU9.fasta\")"
   ]
  },
  {
   "cell_type": "code",
   "execution_count": 133,
   "metadata": {},
   "outputs": [
    {
     "name": "stdout",
     "output_type": "stream",
     "text": [
      "309 in BetaCoV1.fasta\n"
     ]
    }
   ],
   "source": [
    "irma_species(\"BetaCoV1.xlsx\",\"BetaCoV1.fasta\")"
   ]
  },
  {
   "cell_type": "code",
   "execution_count": 118,
   "metadata": {},
   "outputs": [
    {
     "name": "stdout",
     "output_type": "stream",
     "text": [
      "4259 in CoV19.fasta\n"
     ]
    }
   ],
   "source": [
    "irma_species(\"CoV19.xlsx\",\"CoV19.fasta\")"
   ]
  },
  {
   "cell_type": "code",
   "execution_count": 119,
   "metadata": {},
   "outputs": [
    {
     "name": "stdout",
     "output_type": "stream",
     "text": [
      "538 in OC43.fasta\n"
     ]
    }
   ],
   "source": [
    "irma_species(\"OC43.xlsx\",\"OC43.fasta\")"
   ]
  },
  {
   "cell_type": "code",
   "execution_count": 120,
   "metadata": {},
   "outputs": [
    {
     "name": "stdout",
     "output_type": "stream",
     "text": [
      "50 in murine.fasta\n"
     ]
    }
   ],
   "source": [
    "irma_species(\"murine.xlsx\",\"murine.fasta\")"
   ]
  },
  {
   "cell_type": "code",
   "execution_count": 121,
   "metadata": {},
   "outputs": [
    {
     "name": "stdout",
     "output_type": "stream",
     "text": [
      "2 in bat_HP_zhejiang.fasta\n"
     ]
    }
   ],
   "source": [
    "irma_species(\"bat_HP_zhejiang.xlsx\",\"bat_HP_zhejiang.fasta\")"
   ]
  },
  {
   "cell_type": "code",
   "execution_count": 122,
   "metadata": {},
   "outputs": [
    {
     "name": "stdout",
     "output_type": "stream",
     "text": [
      "6 in pangolin.fasta\n"
     ]
    }
   ],
   "source": [
    "irma_species(\"pangolin.xlsx\",\"pangolin.fasta\")"
   ]
  },
  {
   "cell_type": "code",
   "execution_count": 123,
   "metadata": {},
   "outputs": [
    {
     "name": "stdout",
     "output_type": "stream",
     "text": [
      "806 in MERS.fasta\n"
     ]
    }
   ],
   "source": [
    "irma_species(\"MERS.xlsx\",\"MERS.fasta\")"
   ]
  },
  {
   "cell_type": "code",
   "execution_count": 124,
   "metadata": {},
   "outputs": [
    {
     "name": "stdout",
     "output_type": "stream",
     "text": [
      "282 in SARS.fasta\n"
     ]
    }
   ],
   "source": [
    "irma_species(\"SARS.xlsx\",\"SARS.fasta\")"
   ]
  },
  {
   "cell_type": "code",
   "execution_count": 126,
   "metadata": {},
   "outputs": [
    {
     "name": "stdout",
     "output_type": "stream",
     "text": [
      "11 in BetaCoV_sp.fasta\n"
     ]
    }
   ],
   "source": [
    "irma_species(\"BetaCoV_sp.xlsx\",\"BetaCoV_sp.fasta\")"
   ]
  },
  {
   "cell_type": "code",
   "execution_count": 127,
   "metadata": {},
   "outputs": [
    {
     "name": "stdout",
     "output_type": "stream",
     "text": [
      "5 in HKU14.fasta\n"
     ]
    }
   ],
   "source": [
    "irma_species(\"HKU14.xlsx\",\"HKU14.fasta\")"
   ]
  },
  {
   "cell_type": "code",
   "execution_count": 129,
   "metadata": {},
   "outputs": [
    {
     "name": "stdout",
     "output_type": "stream",
     "text": [
      "5 in rat.fasta\n"
     ]
    }
   ],
   "source": [
    "irma_species(\"rat.xlsx\",\"rat.fasta\")"
   ]
  },
  {
   "cell_type": "code",
   "execution_count": 130,
   "metadata": {},
   "outputs": [
    {
     "name": "stdout",
     "output_type": "stream",
     "text": [
      "4 in longquan_murine.fasta\n"
     ]
    }
   ],
   "source": [
    "irma_species(\"longquan_murine.xlsx\",\"longquan_murine.fasta\")"
   ]
  },
  {
   "cell_type": "code",
   "execution_count": 131,
   "metadata": {},
   "outputs": [
    {
     "name": "stdout",
     "output_type": "stream",
     "text": [
      "6 in hedgedog.fasta\n"
     ]
    }
   ],
   "source": [
    "irma_species(\"hedgedog.xlsx\",\"hedgedog.fasta\")"
   ]
  },
  {
   "cell_type": "code",
   "execution_count": 146,
   "metadata": {},
   "outputs": [
    {
     "name": "stdout",
     "output_type": "stream",
     "text": [
      "21 in procine.fasta\n"
     ]
    }
   ],
   "source": [
    "irma_species(\"procine.xlsx\",\"procine.fasta\")"
   ]
  },
  {
   "cell_type": "code",
   "execution_count": 135,
   "metadata": {},
   "outputs": [
    {
     "name": "stdout",
     "output_type": "stream",
     "text": [
      "8 in equine.fasta\n"
     ]
    }
   ],
   "source": [
    "irma_species(\"equine.xlsx\",\"equine.fasta\")"
   ]
  },
  {
   "cell_type": "code",
   "execution_count": 137,
   "metadata": {},
   "outputs": [
    {
     "name": "stdout",
     "output_type": "stream",
     "text": [
      "5 in HKU14.fasta\n"
     ]
    }
   ],
   "source": [
    "irma_species(\"HKU14.xlsx\",\"HKU14.fasta\")"
   ]
  },
  {
   "cell_type": "code",
   "execution_count": 138,
   "metadata": {},
   "outputs": [
    {
     "name": "stdout",
     "output_type": "stream",
     "text": [
      "15 in HKU23.fasta\n"
     ]
    }
   ],
   "source": [
    "irma_species(\"HKU23.xlsx\",\"HKU23.fasta\")"
   ]
  },
  {
   "cell_type": "code",
   "execution_count": 139,
   "metadata": {},
   "outputs": [
    {
     "name": "stdout",
     "output_type": "stream",
     "text": [
      "4 in HKU24.fasta\n"
     ]
    }
   ],
   "source": [
    "irma_species(\"HKU24.xlsx\",\"HKU24.fasta\")"
   ]
  },
  {
   "cell_type": "code",
   "execution_count": 140,
   "metadata": {},
   "outputs": [
    {
     "name": "stdout",
     "output_type": "stream",
     "text": [
      "2 in HKU25.fasta\n"
     ]
    }
   ],
   "source": [
    "irma_species(\"HKU25.xlsx\",\"HKU25.fasta\")"
   ]
  },
  {
   "cell_type": "code",
   "execution_count": 141,
   "metadata": {},
   "outputs": [
    {
     "name": "stdout",
     "output_type": "stream",
     "text": [
      "60 in SARS_like.fasta\n"
     ]
    }
   ],
   "source": [
    "irma_species(\"SARS_like.xlsx\",\"SARS_like.fasta\")"
   ]
  },
  {
   "cell_type": "code",
   "execution_count": 144,
   "metadata": {},
   "outputs": [
    {
     "name": "stdout",
     "output_type": "stream",
     "text": [
      "5 in batCoV.fasta\n"
     ]
    }
   ],
   "source": [
    "irma_species(\"batCoV.xlsx\",\"batCoV.fasta\")"
   ]
  },
  {
   "cell_type": "code",
   "execution_count": 147,
   "metadata": {},
   "outputs": [
    {
     "name": "stdout",
     "output_type": "stream",
     "text": [
      "3 in Rou_bat.fasta\n"
     ]
    }
   ],
   "source": [
    "irma_species(\"Rou_bat.xlsx\",\"Rou_bat.fasta\")"
   ]
  },
  {
   "cell_type": "code",
   "execution_count": 148,
   "metadata": {},
   "outputs": [
    {
     "name": "stdout",
     "output_type": "stream",
     "text": [
      "3 in HKU15.fasta\n"
     ]
    }
   ],
   "source": [
    "irma_species(\"HKU15.xlsx\",\"HKU15.fasta\")"
   ]
  },
  {
   "cell_type": "code",
   "execution_count": 149,
   "metadata": {},
   "outputs": [
    {
     "name": "stdout",
     "output_type": "stream",
     "text": [
      "2 in HKU16.fasta\n"
     ]
    }
   ],
   "source": [
    "irma_species(\"HKU16.xlsx\",\"HKU16.fasta\")"
   ]
  },
  {
   "cell_type": "code",
   "execution_count": 150,
   "metadata": {},
   "outputs": [
    {
     "name": "stdout",
     "output_type": "stream",
     "text": [
      "2 in HKU17.fasta\n"
     ]
    }
   ],
   "source": [
    "irma_species(\"HKU17.xlsx\",\"HKU17.fasta\")"
   ]
  },
  {
   "cell_type": "code",
   "execution_count": 151,
   "metadata": {},
   "outputs": [
    {
     "name": "stdout",
     "output_type": "stream",
     "text": [
      "2 in HKU18.fasta\n"
     ]
    }
   ],
   "source": [
    "irma_species(\"HKU18.xlsx\",\"HKU18.fasta\")"
   ]
  },
  {
   "cell_type": "code",
   "execution_count": 152,
   "metadata": {},
   "outputs": [
    {
     "name": "stdout",
     "output_type": "stream",
     "text": [
      "2 in HKU19.fasta\n"
     ]
    }
   ],
   "source": [
    "irma_species(\"HKU19.xlsx\",\"HKU19.fasta\")"
   ]
  },
  {
   "cell_type": "code",
   "execution_count": 153,
   "metadata": {},
   "outputs": [
    {
     "name": "stdout",
     "output_type": "stream",
     "text": [
      "2 in HKU20.fasta\n"
     ]
    }
   ],
   "source": [
    "irma_species(\"HKU20.xlsx\",\"HKU20.fasta\")"
   ]
  },
  {
   "cell_type": "code",
   "execution_count": 154,
   "metadata": {},
   "outputs": [
    {
     "name": "stdout",
     "output_type": "stream",
     "text": [
      "2 in HKU21.fasta\n"
     ]
    }
   ],
   "source": [
    "irma_species(\"HKU21.xlsx\",\"HKU21.fasta\")"
   ]
  },
  {
   "cell_type": "code",
   "execution_count": 155,
   "metadata": {},
   "outputs": [
    {
     "name": "stdout",
     "output_type": "stream",
     "text": [
      "2 in kenya_bat.fasta\n"
     ]
    }
   ],
   "source": [
    "irma_species(\"kenya_bat.xlsx\",\"kenya_bat.fasta\")"
   ]
  },
  {
   "cell_type": "code",
   "execution_count": 157,
   "metadata": {},
   "outputs": [
    {
     "name": "stdout",
     "output_type": "stream",
     "text": [
      "0 in pipist.fasta\n"
     ]
    }
   ],
   "source": [
    "irma_species(\"pipist.xlsx\",\"pipist.fasta\")"
   ]
  },
  {
   "cell_type": "code",
   "execution_count": null,
   "metadata": {},
   "outputs": [],
   "source": []
  }
 ],
 "metadata": {
  "kernelspec": {
   "display_name": "Python 3",
   "language": "python",
   "name": "python3"
  },
  "language_info": {
   "codemirror_mode": {
    "name": "ipython",
    "version": 3
   },
   "file_extension": ".py",
   "mimetype": "text/x-python",
   "name": "python",
   "nbconvert_exporter": "python",
   "pygments_lexer": "ipython3",
   "version": "3.7.6"
  }
 },
 "nbformat": 4,
 "nbformat_minor": 4
}
