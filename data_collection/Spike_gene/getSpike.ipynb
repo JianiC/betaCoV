{
 "cells": [
  {
   "cell_type": "code",
   "execution_count": 1,
   "metadata": {},
   "outputs": [],
   "source": [
    "from Bio import SeqIO"
   ]
  },
  {
   "cell_type": "code",
   "execution_count": 5,
   "metadata": {},
   "outputs": [],
   "source": [
    "import os,sys\n",
    "sys.stdout = open('BetaCoV_spike.fasta','wt')\n",
    "for rec in SeqIO.parse(\"BetaCoV.gb\", \"gb\"):\n",
    "    for feature in rec.features:\n",
    "        for key, val in feature.qualifiers.items():\n",
    "            if \"spike glycoprotein\" in val or \"S\" in val:\n",
    "                print (\">\" + rec.id)\n",
    "                print (feature.location.extract(rec).seq)"
   ]
  },
  {
   "cell_type": "code",
   "execution_count": 6,
   "metadata": {},
   "outputs": [],
   "source": [
    "## remove duplicate\n",
    "def sequence_cleaner(fasta_file):\n",
    "    # Create our hash table to add the sequences id\n",
    "    sequences={}\n",
    "    record_ids={}\n",
    "\n",
    "    # Using the Biopython fasta parse we can read our fasta input\n",
    "    for seq_record in SeqIO.parse(fasta_file, \"fasta\"):\n",
    "        # Take the current sequence\n",
    "        sequence = str(seq_record.seq).upper()\n",
    "        if seq_record.id not in record_ids:\n",
    "            sequences[sequence] = seq_record.id\n",
    "\n",
    "\n",
    "    # Write the clean sequences\n",
    "\n",
    "    # Create a file in the same directory where you ran this script\n",
    "    with open(\"clear_\" + fasta_file, \"w+\") as output_file:\n",
    "        # Just read the hash table and write on the file as a fasta format\n",
    "        for sequence in sequences:\n",
    "            output_file.write(\">\" + sequences[sequence] + \"\\n\" + sequence + \"\\n\")"
   ]
  },
  {
   "cell_type": "code",
   "execution_count": 7,
   "metadata": {},
   "outputs": [],
   "source": [
    "sequence_cleaner(\"BetaCoV_spike.fasta\")"
   ]
  },
  {
   "cell_type": "code",
   "execution_count": 2,
   "metadata": {},
   "outputs": [],
   "source": [
    "## doulbe check with the function\n",
    "import pandas as pd"
   ]
  },
  {
   "cell_type": "code",
   "execution_count": 4,
   "metadata": {},
   "outputs": [
    {
     "data": {
      "text/html": [
       "<div>\n",
       "<style scoped>\n",
       "    .dataframe tbody tr th:only-of-type {\n",
       "        vertical-align: middle;\n",
       "    }\n",
       "\n",
       "    .dataframe tbody tr th {\n",
       "        vertical-align: top;\n",
       "    }\n",
       "\n",
       "    .dataframe thead th {\n",
       "        text-align: right;\n",
       "    }\n",
       "</style>\n",
       "<table border=\"1\" class=\"dataframe\">\n",
       "  <thead>\n",
       "    <tr style=\"text-align: right;\">\n",
       "      <th></th>\n",
       "      <th>taxa</th>\n",
       "      <th>seq</th>\n",
       "    </tr>\n",
       "  </thead>\n",
       "  <tbody>\n",
       "    <tr>\n",
       "      <th>0</th>\n",
       "      <td>NC_026011.1</td>\n",
       "      <td>ATGGTTATAATTTTTCTGCTCTTATTCGCCGAGCCTGTTTTTGGTA...</td>\n",
       "    </tr>\n",
       "    <tr>\n",
       "      <th>1</th>\n",
       "      <td>NC_026011.1</td>\n",
       "      <td>ATGGTTATAATTTTTCTGCTCTTATTCGCCGAGCCTGTTTTTGGTA...</td>\n",
       "    </tr>\n",
       "    <tr>\n",
       "      <th>2</th>\n",
       "      <td>KM349744.1</td>\n",
       "      <td>ATGGTTATAATTTTTCTGCTCTTATTCGCCGAGCCTGTTTTTGGTA...</td>\n",
       "    </tr>\n",
       "    <tr>\n",
       "      <th>3</th>\n",
       "      <td>KM349744.1</td>\n",
       "      <td>ATGGTTATAATTTTTCTGCTCTTATTCGCCGAGCCTGTTTTTGGTA...</td>\n",
       "    </tr>\n",
       "    <tr>\n",
       "      <th>4</th>\n",
       "      <td>KM349744.1</td>\n",
       "      <td>ATGGTTATAATTTTTCTGCTCTTATTCGCCGAGCCTGTTTTTGGTA...</td>\n",
       "    </tr>\n",
       "    <tr>\n",
       "      <th>...</th>\n",
       "      <td>...</td>\n",
       "      <td>...</td>\n",
       "    </tr>\n",
       "    <tr>\n",
       "      <th>9084</th>\n",
       "      <td>JQ065045.1</td>\n",
       "      <td>ATGCAGGGAGCTCTACTGATCACATTTATCGCAGTGGTGACCTCGT...</td>\n",
       "    </tr>\n",
       "    <tr>\n",
       "      <th>9085</th>\n",
       "      <td>JQ065045.1</td>\n",
       "      <td>ATGCAGGGAGCTCTACTGATCACATTTATCGCAGTGGTGACCTCGT...</td>\n",
       "    </tr>\n",
       "    <tr>\n",
       "      <th>9086</th>\n",
       "      <td>JQ065044.1</td>\n",
       "      <td>ATGCAGAGAATTATATTAATTTCCACCATTTTGTATTGTGCTAGAG...</td>\n",
       "    </tr>\n",
       "    <tr>\n",
       "      <th>9087</th>\n",
       "      <td>JQ065044.1</td>\n",
       "      <td>ATGCAGAGAATTATATTAATTTCCACCATTTTGTATTGTGCTAGAG...</td>\n",
       "    </tr>\n",
       "    <tr>\n",
       "      <th>9088</th>\n",
       "      <td>JQ065044.1</td>\n",
       "      <td>ATGCAGAGAATTATATTAATTTCCACCATTTTGTATTGTGCTAGAG...</td>\n",
       "    </tr>\n",
       "  </tbody>\n",
       "</table>\n",
       "<p>9089 rows × 2 columns</p>\n",
       "</div>"
      ],
      "text/plain": [
       "             taxa                                                seq\n",
       "0     NC_026011.1  ATGGTTATAATTTTTCTGCTCTTATTCGCCGAGCCTGTTTTTGGTA...\n",
       "1     NC_026011.1  ATGGTTATAATTTTTCTGCTCTTATTCGCCGAGCCTGTTTTTGGTA...\n",
       "2      KM349744.1  ATGGTTATAATTTTTCTGCTCTTATTCGCCGAGCCTGTTTTTGGTA...\n",
       "3      KM349744.1  ATGGTTATAATTTTTCTGCTCTTATTCGCCGAGCCTGTTTTTGGTA...\n",
       "4      KM349744.1  ATGGTTATAATTTTTCTGCTCTTATTCGCCGAGCCTGTTTTTGGTA...\n",
       "...           ...                                                ...\n",
       "9084   JQ065045.1  ATGCAGGGAGCTCTACTGATCACATTTATCGCAGTGGTGACCTCGT...\n",
       "9085   JQ065045.1  ATGCAGGGAGCTCTACTGATCACATTTATCGCAGTGGTGACCTCGT...\n",
       "9086   JQ065044.1  ATGCAGAGAATTATATTAATTTCCACCATTTTGTATTGTGCTAGAG...\n",
       "9087   JQ065044.1  ATGCAGAGAATTATATTAATTTCCACCATTTTGTATTGTGCTAGAG...\n",
       "9088   JQ065044.1  ATGCAGAGAATTATATTAATTTCCACCATTTTGTATTGTGCTAGAG...\n",
       "\n",
       "[9089 rows x 2 columns]"
      ]
     },
     "execution_count": 4,
     "metadata": {},
     "output_type": "execute_result"
    }
   ],
   "source": [
    "# remove the duplicate from pandas\n",
    "df = SeqIO.parse(\"BetaCoV_spike.fasta\", \"fasta\")\n",
    "SeqIO.write(df, \"BetaCoV_spike.tab\", \"tab\")\n",
    "df = pd.read_csv(\"BetaCoV_spike.tab\",sep='\\t',names=[\"taxa\", \"seq\"])\n",
    "df"
   ]
  },
  {
   "cell_type": "code",
   "execution_count": 5,
   "metadata": {},
   "outputs": [
    {
     "data": {
      "text/html": [
       "<div>\n",
       "<style scoped>\n",
       "    .dataframe tbody tr th:only-of-type {\n",
       "        vertical-align: middle;\n",
       "    }\n",
       "\n",
       "    .dataframe tbody tr th {\n",
       "        vertical-align: top;\n",
       "    }\n",
       "\n",
       "    .dataframe thead th {\n",
       "        text-align: right;\n",
       "    }\n",
       "</style>\n",
       "<table border=\"1\" class=\"dataframe\">\n",
       "  <thead>\n",
       "    <tr style=\"text-align: right;\">\n",
       "      <th></th>\n",
       "      <th>taxa</th>\n",
       "      <th>seq</th>\n",
       "    </tr>\n",
       "  </thead>\n",
       "  <tbody>\n",
       "    <tr>\n",
       "      <th>0</th>\n",
       "      <td>NC_026011.1</td>\n",
       "      <td>ATGGTTATAATTTTTCTGCTCTTATTCGCCGAGCCTGTTTTTGGTA...</td>\n",
       "    </tr>\n",
       "    <tr>\n",
       "      <th>2</th>\n",
       "      <td>KM349744.1</td>\n",
       "      <td>ATGGTTATAATTTTTCTGCTCTTATTCGCCGAGCCTGTTTTTGGTA...</td>\n",
       "    </tr>\n",
       "    <tr>\n",
       "      <th>5</th>\n",
       "      <td>KM349743.1</td>\n",
       "      <td>ATGGTTATAATTTTTCTGCTCTTATTCGCCGAGCCTGTTTTTGGTA...</td>\n",
       "    </tr>\n",
       "    <tr>\n",
       "      <th>8</th>\n",
       "      <td>KM349742.1</td>\n",
       "      <td>ATGGTTATAATTTTTCTGCTCTTATTCGCCGAGCCTGTTTTTGGTA...</td>\n",
       "    </tr>\n",
       "    <tr>\n",
       "      <th>11</th>\n",
       "      <td>KC875821.1</td>\n",
       "      <td>GGAAGACGGTGATTATTATAGGAAACAACTATCTCCACTTGAAGGT...</td>\n",
       "    </tr>\n",
       "    <tr>\n",
       "      <th>...</th>\n",
       "      <td>...</td>\n",
       "      <td>...</td>\n",
       "    </tr>\n",
       "    <tr>\n",
       "      <th>9074</th>\n",
       "      <td>JQ065048.1</td>\n",
       "      <td>ATGTACAGGTTTGCTATACTAATGTTGGTCATTTCGCCAACCCTAG...</td>\n",
       "    </tr>\n",
       "    <tr>\n",
       "      <th>9077</th>\n",
       "      <td>JQ065047.1</td>\n",
       "      <td>ATGCAATGTGTTGTTTTAGTTTTAACATTAATTTCAATAGTAACAT...</td>\n",
       "    </tr>\n",
       "    <tr>\n",
       "      <th>9080</th>\n",
       "      <td>JQ065046.1</td>\n",
       "      <td>ATGCGGGGAGCTATATTAACTTTAATCCTCGTCACATCAGTCAAAG...</td>\n",
       "    </tr>\n",
       "    <tr>\n",
       "      <th>9083</th>\n",
       "      <td>JQ065045.1</td>\n",
       "      <td>ATGCAGGGAGCTCTACTGATCACATTTATCGCAGTGGTGACCTCGT...</td>\n",
       "    </tr>\n",
       "    <tr>\n",
       "      <th>9086</th>\n",
       "      <td>JQ065044.1</td>\n",
       "      <td>ATGCAGAGAATTATATTAATTTCCACCATTTTGTATTGTGCTAGAG...</td>\n",
       "    </tr>\n",
       "  </tbody>\n",
       "</table>\n",
       "<p>4223 rows × 2 columns</p>\n",
       "</div>"
      ],
      "text/plain": [
       "             taxa                                                seq\n",
       "0     NC_026011.1  ATGGTTATAATTTTTCTGCTCTTATTCGCCGAGCCTGTTTTTGGTA...\n",
       "2      KM349744.1  ATGGTTATAATTTTTCTGCTCTTATTCGCCGAGCCTGTTTTTGGTA...\n",
       "5      KM349743.1  ATGGTTATAATTTTTCTGCTCTTATTCGCCGAGCCTGTTTTTGGTA...\n",
       "8      KM349742.1  ATGGTTATAATTTTTCTGCTCTTATTCGCCGAGCCTGTTTTTGGTA...\n",
       "11     KC875821.1  GGAAGACGGTGATTATTATAGGAAACAACTATCTCCACTTGAAGGT...\n",
       "...           ...                                                ...\n",
       "9074   JQ065048.1  ATGTACAGGTTTGCTATACTAATGTTGGTCATTTCGCCAACCCTAG...\n",
       "9077   JQ065047.1  ATGCAATGTGTTGTTTTAGTTTTAACATTAATTTCAATAGTAACAT...\n",
       "9080   JQ065046.1  ATGCGGGGAGCTATATTAACTTTAATCCTCGTCACATCAGTCAAAG...\n",
       "9083   JQ065045.1  ATGCAGGGAGCTCTACTGATCACATTTATCGCAGTGGTGACCTCGT...\n",
       "9086   JQ065044.1  ATGCAGAGAATTATATTAATTTCCACCATTTTGTATTGTGCTAGAG...\n",
       "\n",
       "[4223 rows x 2 columns]"
      ]
     },
     "execution_count": 5,
     "metadata": {},
     "output_type": "execute_result"
    }
   ],
   "source": [
    "df2 = df.drop_duplicates()\n",
    "df2"
   ]
  },
  {
   "cell_type": "code",
   "execution_count": 7,
   "metadata": {},
   "outputs": [
    {
     "data": {
      "text/plain": [
       "4223"
      ]
     },
     "execution_count": 7,
     "metadata": {},
     "output_type": "execute_result"
    }
   ],
   "source": [
    "## save no_duplicate to fasta\n",
    "df2.to_csv(\"betaCoV_spikerm.tab\", sep=\"\\t\",index = False,header=False)\n",
    "\n",
    "## covert csv to fasta\n",
    "spikerm_fasta = SeqIO.parse(\"betaCoV_spikerm.tab\", \"tab\")\n",
    "SeqIO.write(spikerm_fasta, \"betaCoV_spikerm.fasta\", \"fasta\")"
   ]
  },
  {
   "cell_type": "code",
   "execution_count": 8,
   "metadata": {},
   "outputs": [],
   "source": [
    "## filter by length and propotion of \"N\"\n",
    "## the minimal length of sequence\n",
    "## porpotion of \"N\"\n",
    "\n",
    "\n",
    "\n",
    "##from https://biopython.org/wiki/Sequence_Cleaner\n",
    "def sequence_cleaner(fasta_file, min_length=0, por_n=100):\n",
    "    # Create our hash table to add the sequences\n",
    "    sequences={}\n",
    "\n",
    "    # Using the Biopython fasta parse we can read our fasta input\n",
    "    for seq_record in SeqIO.parse(fasta_file, \"fasta\"):\n",
    "        # Take the current sequence\n",
    "        sequence = str(seq_record.seq).upper()\n",
    "        # Check if the current sequence is according to the user parameters\n",
    "        if (len(sequence) >= min_length and\n",
    "            (float(sequence.count(\"N\"))/float(len(sequence)))*100 <= por_n):\n",
    "                sequences[sequence] = seq_record.id\n",
    "\n",
    "\n",
    "    # Write the clean sequences\n",
    "\n",
    "    # Create a file in the same directory where you ran this script\n",
    "    with open(\"clear_\" + fasta_file, \"w+\") as output_file:\n",
    "        # Just read the hash table and write on the file as a fasta format\n",
    "        for sequence in sequences:\n",
    "            output_file.write(\">\" + sequences[sequence] + \"\\n\" + sequence + \"\\n\")\n",
    "\n",
    "    print(\"CLEAN!!!\\nPlease check clear_\" + fasta_file)"
   ]
  },
  {
   "cell_type": "code",
   "execution_count": 11,
   "metadata": {},
   "outputs": [
    {
     "data": {
      "text/plain": [
       "1911.0"
      ]
     },
     "execution_count": 11,
     "metadata": {},
     "output_type": "execute_result"
    }
   ],
   "source": [
    "## For SARS-CoV spike protein gene: length =3822bp\n",
    "t = 3822 * 0.5\n",
    "t"
   ]
  },
  {
   "cell_type": "code",
   "execution_count": 12,
   "metadata": {},
   "outputs": [
    {
     "name": "stdout",
     "output_type": "stream",
     "text": [
      "CLEAN!!!\n",
      "Please check clear_betaCoV_spikerm.fasta\n"
     ]
    }
   ],
   "source": [
    "sequence_cleaner(\"betaCoV_spikerm.fasta\",1911,50)"
   ]
  },
  {
   "cell_type": "code",
   "execution_count": null,
   "metadata": {},
   "outputs": [],
   "source": []
  }
 ],
 "metadata": {
  "kernelspec": {
   "display_name": "Python 3",
   "language": "python",
   "name": "python3"
  },
  "language_info": {
   "codemirror_mode": {
    "name": "ipython",
    "version": 3
   },
   "file_extension": ".py",
   "mimetype": "text/x-python",
   "name": "python",
   "nbconvert_exporter": "python",
   "pygments_lexer": "ipython3",
   "version": "3.7.6"
  }
 },
 "nbformat": 4,
 "nbformat_minor": 4
}
