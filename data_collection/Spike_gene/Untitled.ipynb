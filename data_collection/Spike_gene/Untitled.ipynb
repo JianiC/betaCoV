{
 "cells": [
  {
   "cell_type": "code",
   "execution_count": 1,
   "metadata": {},
   "outputs": [],
   "source": [
    "from Bio import SeqIO"
   ]
  },
  {
   "cell_type": "code",
   "execution_count": 32,
   "metadata": {},
   "outputs": [],
   "source": [
    "    for rec in SeqIO.parse(\"test.gb\", \"gb\"):\n",
    "        for feature in rec.features:\n",
    "            for key, val in feature.qualifiers.items():\n",
    "                if \"spike glycoprotein\" in val or \"S\" in val:\n",
    "                    #print (feature.location)\n",
    "                    print (\">\" + rec.id)\n",
    "                    print (feature.location.extract(rec).seq)\n",
    "                \n",
    "                    #print (\"Protein id: {0}\\n{1}: {2}\\n{3}\\n\\n\".format(feature.qualifiers['protein_id'][0], key, val[0], feature.qualifiers['translation'][0]))"
   ]
  },
  {
   "cell_type": "code",
   "execution_count": 24,
   "metadata": {},
   "outputs": [],
   "source": [
    "import os,sys\n",
    "sys.stdout = open('test_spike.fasta','wt')\n",
    "for rec in SeqIO.parse(\"test.gb\", \"gb\"):\n",
    "    for feature in rec.features:\n",
    "        for key, val in feature.qualifiers.items():\n",
    "            if \"spike glycoprotein\" in val or \"S\" in val:\n",
    "                print (\">\" + rec.id)\n",
    "                print (feature.location.extract(rec).seq)\n",
    "                                  "
   ]
  },
  {
   "cell_type": "code",
   "execution_count": 37,
   "metadata": {},
   "outputs": [],
   "source": [
    "## remove duplicate\n",
    "def sequence_cleaner(fasta_file):\n",
    "    # Create our hash table to add the sequences id\n",
    "    sequences={}\n",
    "    record_ids={}\n",
    "\n",
    "    # Using the Biopython fasta parse we can read our fasta input\n",
    "    for seq_record in SeqIO.parse(fasta_file, \"fasta\"):\n",
    "        # Take the current sequence\n",
    "        sequence = str(seq_record.seq).upper()\n",
    "        if seq_record.id not in record_ids:\n",
    "            sequences[sequence] = seq_record.id\n",
    "\n",
    "\n",
    "    # Write the clean sequences\n",
    "\n",
    "    # Create a file in the same directory where you ran this script\n",
    "    with open(\"clear_\" + fasta_file, \"w+\") as output_file:\n",
    "        # Just read the hash table and write on the file as a fasta format\n",
    "        for sequence in sequences:\n",
    "            output_file.write(\">\" + sequences[sequence] + \"\\n\" + sequence + \"\\n\")\n"
   ]
  },
  {
   "cell_type": "code",
   "execution_count": 38,
   "metadata": {},
   "outputs": [],
   "source": [
    "sequence_cleaner(\"test_spike.fasta\")"
   ]
  },
  {
   "cell_type": "code",
   "execution_count": null,
   "metadata": {},
   "outputs": [],
   "source": []
  }
 ],
 "metadata": {
  "kernelspec": {
   "display_name": "Python 3",
   "language": "python",
   "name": "python3"
  },
  "language_info": {
   "codemirror_mode": {
    "name": "ipython",
    "version": 3
   },
   "file_extension": ".py",
   "mimetype": "text/x-python",
   "name": "python",
   "nbconvert_exporter": "python",
   "pygments_lexer": "ipython3",
   "version": "3.7.6"
  }
 },
 "nbformat": 4,
 "nbformat_minor": 4
}
