{
 "cells": [
  {
   "cell_type": "code",
   "execution_count": 3,
   "metadata": {},
   "outputs": [],
   "source": [
    "from Bio import SeqIO\n",
    "import os,sys\n",
    "import pandas as pd\n",
    "import phylopandas as ph"
   ]
  },
  {
   "cell_type": "code",
   "execution_count": 4,
   "metadata": {},
   "outputs": [],
   "source": [
    "def getgene(fasta_file, anno_list):\n",
    "    f = open(fasta_file, \"w\")\n",
    "    for rec in SeqIO.parse(\"BetaCoV.gb\", \"gb\"):\n",
    "        for feature in rec.features:\n",
    "            for key, val in feature.qualifiers.items():\n",
    "                if feature.type == \"CDS\":\n",
    "                    if any (s in val for s in anno_list):\n",
    "                        print (\">\" + rec.id, file=f )\n",
    "                        print (feature.location.extract(rec).seq,file=f)\n",
    "    f.close()"
   ]
  },
  {
   "cell_type": "code",
   "execution_count": 12,
   "metadata": {},
   "outputs": [],
   "source": [
    "def duplicate_remover(fasta_file):\n",
    "    df = ph.read_fasta(fasta_file)\n",
    "    df = df.filter(['id','sequence'], axis=1)\n",
    "    df = df.drop_duplicates()\n",
    "    df.to_csv(\"temp.tab\", sep=\"\\t\",index = False,header=False)\n",
    "    df2= SeqIO.parse(\"temp.tab\", \"tab\")\n",
    "    SeqIO.write(df2, \"rm\"+fasta_file, \"fasta\")\n",
    "    os.remove(\"temp.tab\")\n",
    "    print(\"duplicate records removed!\\n\"+ str(len(df.index))+\" unique records saved from \" + fasta_file)\n"
   ]
  },
  {
   "cell_type": "markdown",
   "metadata": {},
   "source": [
    "https://viralzone.expasy.org/764?outline=all_by_species"
   ]
  },
  {
   "cell_type": "markdown",
   "metadata": {},
   "source": [
    "### ORF1ab"
   ]
  },
  {
   "cell_type": "code",
   "execution_count": 130,
   "metadata": {},
   "outputs": [
    {
     "data": {
      "text/plain": [
       "['ORF1a/b polyprotein',\n",
       " 'ORF1ab',\n",
       " 'ORF1ab polyprotein',\n",
       " 'ORF1ab protein',\n",
       " '1',\n",
       " '1ab',\n",
       " 'putative orf1ab polyprotein',\n",
       " 'putative polyprotein',\n",
       " 'non-structural polyprotein 1a',\n",
       " 'non-structural polyprotein 1ab',\n",
       " 'orf1ab',\n",
       " 'orf1ab polyprotein',\n",
       " 'polyprotein 1ab',\n",
       " 'polyprotein',\n",
       " 'polyprotein ORF1ab',\n",
       " 'polyprotein orf1a',\n",
       " 'polyprotein orf1ab',\n",
       " 'replicase 1AB',\n",
       " 'replicase',\n",
       " 'replicase p1AB',\n",
       " 'replicase polyprotein 1ab',\n",
       " 'replicase polyprotein',\n",
       " 'replicase polyprotein ORF 1ab',\n",
       " 'replicase protein',\n",
       " 'ORF 1ab',\n",
       " 'PP1ab',\n",
       " 'Pp1ab',\n",
       " 'rep']"
      ]
     },
     "execution_count": 130,
     "metadata": {},
     "output_type": "execute_result"
    }
   ],
   "source": [
    "### get ORF1ab\n",
    "with open('orf1ab_v2.txt') as f1:\n",
    "    ORF1ab = f1.readlines()\n",
    "    \n",
    "f.close()    \n",
    "ORF1ab = [x.strip() for x in lines] \n",
    "ORF1ab"
   ]
  },
  {
   "cell_type": "code",
   "execution_count": 61,
   "metadata": {},
   "outputs": [],
   "source": [
    "ORF1ab={'1ab',\n",
    "        'ORF 1ab',\n",
    "        'ORF1',\n",
    "        'ORF1a/b polyprotein',\n",
    "        'ORF1ab',\n",
    "        'ORF1ab polyprotein',\n",
    "        'ORF1ab protein',\n",
    "        'PP1ab',\n",
    "        'Pp1ab',   \n",
    "        'non-structural polyprotein 1ab',\n",
    "        'nonstructural polyprotein pp1ab',\n",
    "        'nonstructural polyprotein',\n",
    "        'orf1ab',\n",
    "        'orf1ab polyprotein',\n",
    "        'polymerase',\n",
    "        'polyprotein 1ab',\n",
    "        'polyprotein',\n",
    "        'polyprotein ORF1ab',\n",
    "        'polyprotein orf1ab',\n",
    "        'putative orf1ab polyprotein',\n",
    "        'putative polyprotein',\n",
    "        'rep',\n",
    "        'replicase 1AB',\n",
    "        'replicase',\n",
    "        'replicase p1AB',\n",
    "        'replicase polyprotein 1ab',\n",
    "        'replicase polyprotein',\n",
    "        'replicase polyprotein ORF 1ab',\n",
    "        \"replicase protein\"}"
   ]
  },
  {
   "cell_type": "code",
   "execution_count": 62,
   "metadata": {},
   "outputs": [],
   "source": [
    "getgene(\"ORF1ab.fasta\",ORF1ab)"
   ]
  },
  {
   "cell_type": "code",
   "execution_count": 63,
   "metadata": {},
   "outputs": [
    {
     "name": "stdout",
     "output_type": "stream",
     "text": [
      "duplicate records removed!\n",
      "5486 unique records saved from ORF1ab.fasta\n"
     ]
    }
   ],
   "source": [
    "duplicate_remover(\"ORF1ab.fasta\")"
   ]
  },
  {
   "cell_type": "code",
   "execution_count": 101,
   "metadata": {},
   "outputs": [],
   "source": [
    "## duplicate ORF1a need to be further removed\n",
    "## read the ORFab fasta in a dataframe\n",
    "df = ph.read_fasta(\"Data/rmORF1ab.fasta\")\n",
    "df['seq_length'] = df['sequence'].str.len()\n",
    "##sort by length\n",
    "df = df.sort_values('seq_length')\n",
    "## keep the last one with the identical id\n",
    "df = df.drop_duplicates(subset='id',keep = \"last\") \n",
    "df = df.filter(['id','sequence'], axis=1)\n",
    "df.to_csv(\"temp.tab\", sep=\"\\t\",index = False,header=False)\n",
    "df2= SeqIO.parse(\"temp.tab\", \"tab\")\n",
    "SeqIO.write(df2, \"Data/rmORF1ab.fasta\", \"fasta\")\n",
    "os.remove(\"temp.tab\")"
   ]
  },
  {
   "cell_type": "markdown",
   "metadata": {},
   "source": [
    "### S"
   ]
  },
  {
   "cell_type": "code",
   "execution_count": 67,
   "metadata": {},
   "outputs": [],
   "source": [
    "S={\n",
    "       'S',\n",
    "        'S glycoprotein',\n",
    "        'S glycoprotein S1B portion',\n",
    "        'S protein',\n",
    "        'Spike',\n",
    "        'Spike protein',\n",
    "        'putative E2 glycoprotein precursor',\n",
    "        'putative spike glycoprotein',\n",
    "        'spike',\n",
    "        'spike glycoprotein',\n",
    "        'spike glycoprotein S',\n",
    "        'spike glycoprotein precursor',\n",
    "        'spike protein',\n",
    "        'spike protein S1 subunit',\n",
    "        'spike protein subunit 1',\n",
    "        'spike surface glycoprotein',\n",
    "        'surface glycoprotein',\n",
    "        'surface protein'}\n"
   ]
  },
  {
   "cell_type": "code",
   "execution_count": 68,
   "metadata": {},
   "outputs": [],
   "source": [
    "getgene(\"S.fasta\",S)"
   ]
  },
  {
   "cell_type": "code",
   "execution_count": 69,
   "metadata": {},
   "outputs": [
    {
     "name": "stdout",
     "output_type": "stream",
     "text": [
      "duplicate records removed!\n",
      "5291 unique records saved from S.fasta\n"
     ]
    }
   ],
   "source": [
    "duplicate_remover(\"S.fasta\")"
   ]
  },
  {
   "cell_type": "markdown",
   "metadata": {},
   "source": [
    "### ORF3a "
   ]
  },
  {
   "cell_type": "code",
   "execution_count": 71,
   "metadata": {},
   "outputs": [],
   "source": [
    "ORF3a = {'ORF 3a',\n",
    "        'ORF3a',\n",
    "        'ORF3a protein',\n",
    "        'hypothetical protein ORF3a',\n",
    "        'orf3a',\n",
    "        'orf3a protein'}"
   ]
  },
  {
   "cell_type": "code",
   "execution_count": 72,
   "metadata": {},
   "outputs": [],
   "source": [
    "getgene(\"ORF3a.fasta\",ORF3a)"
   ]
  },
  {
   "cell_type": "code",
   "execution_count": 73,
   "metadata": {},
   "outputs": [
    {
     "name": "stdout",
     "output_type": "stream",
     "text": [
      "duplicate records removed!\n",
      "1899 unique records saved from ORF3a.fasta\n"
     ]
    }
   ],
   "source": [
    "duplicate_remover(\"ORF3a.fasta\")"
   ]
  },
  {
   "cell_type": "markdown",
   "metadata": {},
   "source": [
    "### E gene"
   ]
  },
  {
   "cell_type": "code",
   "execution_count": 160,
   "metadata": {},
   "outputs": [],
   "source": [
    "E={'E',\n",
    "    'E protein',\n",
    "    'E small membrane protein',\n",
    "    'envelope',\n",
    "    'envelope protein',\n",
    "    'envelope protein E',\n",
    "    'envelope small membrane protein',\n",
    "    'putative envelope protein E',\n",
    "    'putative small envelope protein',\n",
    "    'small envelope E protein',\n",
    "    \"small envelope protein\",\n",
    "    }"
   ]
  },
  {
   "cell_type": "code",
   "execution_count": 161,
   "metadata": {},
   "outputs": [],
   "source": [
    "getgene(\"E.fasta\",E)"
   ]
  },
  {
   "cell_type": "code",
   "execution_count": 162,
   "metadata": {},
   "outputs": [
    {
     "name": "stdout",
     "output_type": "stream",
     "text": [
      "duplicate records removed!\n",
      "3193 unique records saved from E.fasta\n"
     ]
    }
   ],
   "source": [
    "duplicate_remover(\"E.fasta\")"
   ]
  },
  {
   "cell_type": "markdown",
   "metadata": {},
   "source": [
    "### M gene"
   ]
  },
  {
   "cell_type": "code",
   "execution_count": 164,
   "metadata": {},
   "outputs": [],
   "source": [
    "M={'M',\n",
    "    'M protein',\n",
    "    'Membrane protein',\n",
    "    'matrix protein',\n",
    "    'membrance glycoprotein',\n",
    "    'membrane',\n",
    "    'membrane glycoprotein',\n",
    "    'membrane glycoprotein M',\n",
    "    'membrane protein',\n",
    "    'membrane protein M',\n",
    "    'putative M protein',\n",
    "    'putative envelope protein M',\n",
    "    'sM',\n",
    "    \"small membrane protein\" }"
   ]
  },
  {
   "cell_type": "code",
   "execution_count": 165,
   "metadata": {},
   "outputs": [],
   "source": [
    "getgene(\"M.fasta\",M)"
   ]
  },
  {
   "cell_type": "code",
   "execution_count": 166,
   "metadata": {},
   "outputs": [
    {
     "name": "stdout",
     "output_type": "stream",
     "text": [
      "duplicate records removed!\n",
      "3324 unique records saved from M.fasta\n"
     ]
    }
   ],
   "source": [
    "duplicate_remover(\"M.fasta\")"
   ]
  },
  {
   "cell_type": "markdown",
   "metadata": {},
   "source": [
    "### ORF6a"
   ]
  },
  {
   "cell_type": "code",
   "execution_count": 75,
   "metadata": {},
   "outputs": [],
   "source": [
    "ORF6a = {'NS6',\n",
    "        'ORF6',\n",
    "        'ORF6 protein'}"
   ]
  },
  {
   "cell_type": "code",
   "execution_count": 77,
   "metadata": {},
   "outputs": [],
   "source": [
    "getgene(\"ORF6a.fasta\",ORF6a)"
   ]
  },
  {
   "cell_type": "code",
   "execution_count": 78,
   "metadata": {},
   "outputs": [
    {
     "name": "stdout",
     "output_type": "stream",
     "text": [
      "duplicate records removed!\n",
      "1863 unique records saved from ORF6a.fasta\n"
     ]
    }
   ],
   "source": [
    "duplicate_remover(\"ORF6a.fasta\")"
   ]
  },
  {
   "cell_type": "markdown",
   "metadata": {},
   "source": [
    "### ORF7a "
   ]
  },
  {
   "cell_type": "code",
   "execution_count": 79,
   "metadata": {},
   "outputs": [],
   "source": [
    "ORF7a = {\n",
    "    'ORF7a',\n",
    "    'ORF7a protein',\n",
    "    'NS7a'\n",
    "    \n",
    "}"
   ]
  },
  {
   "cell_type": "code",
   "execution_count": 83,
   "metadata": {},
   "outputs": [],
   "source": [
    "getgene(\"ORF7a.fasta\",ORF7a)"
   ]
  },
  {
   "cell_type": "code",
   "execution_count": 84,
   "metadata": {},
   "outputs": [
    {
     "name": "stdout",
     "output_type": "stream",
     "text": [
      "duplicate records removed!\n",
      "1895 unique records saved from ORF7a.fasta\n"
     ]
    }
   ],
   "source": [
    "duplicate_remover(\"ORF7a.fasta\")"
   ]
  },
  {
   "cell_type": "markdown",
   "metadata": {},
   "source": [
    "### ORF7b"
   ]
  },
  {
   "cell_type": "code",
   "execution_count": 86,
   "metadata": {},
   "outputs": [],
   "source": [
    "ORF7b = {'ORF7b',\n",
    "'ORF7b protein',\n",
    "'NS7b'\n",
    "    \n",
    "}"
   ]
  },
  {
   "cell_type": "code",
   "execution_count": 87,
   "metadata": {},
   "outputs": [],
   "source": [
    "getgene(\"ORF7b.fasta\",ORF7b)"
   ]
  },
  {
   "cell_type": "code",
   "execution_count": 88,
   "metadata": {},
   "outputs": [
    {
     "name": "stdout",
     "output_type": "stream",
     "text": [
      "duplicate records removed!\n",
      "1726 unique records saved from ORF7b.fasta\n"
     ]
    }
   ],
   "source": [
    "duplicate_remover(\"ORF7b.fasta\")"
   ]
  },
  {
   "cell_type": "markdown",
   "metadata": {},
   "source": [
    "### ORF8"
   ]
  },
  {
   "cell_type": "code",
   "execution_count": 90,
   "metadata": {},
   "outputs": [],
   "source": [
    "ORF8 = {\n",
    "    'NS8',\n",
    "    'ORF8',\n",
    "    'ORF8 protein'\n",
    "    \n",
    "}"
   ]
  },
  {
   "cell_type": "code",
   "execution_count": 91,
   "metadata": {},
   "outputs": [],
   "source": [
    "getgene(\"ORF8.fasta\",ORF8)"
   ]
  },
  {
   "cell_type": "code",
   "execution_count": 92,
   "metadata": {},
   "outputs": [
    {
     "name": "stdout",
     "output_type": "stream",
     "text": [
      "duplicate records removed!\n",
      "1817 unique records saved from ORF8.fasta\n"
     ]
    }
   ],
   "source": [
    "duplicate_remover(\"ORF8.fasta\")"
   ]
  },
  {
   "cell_type": "markdown",
   "metadata": {},
   "source": [
    "### N gene"
   ]
  },
  {
   "cell_type": "code",
   "execution_count": 168,
   "metadata": {},
   "outputs": [],
   "source": [
    "N={'N',\n",
    "'N protein',\n",
    "'nucleocapsid',\n",
    "'nucleocapsid phosphoprotein',\n",
    "'nucleocapsid protein',\n",
    "'nucleocapsid protein N',\n",
    "'nucleoprotein',\n",
    "'putative nucleocapsid protein',\n",
    "\"putative nucleocapsid protein N\"  }"
   ]
  },
  {
   "cell_type": "code",
   "execution_count": 169,
   "metadata": {},
   "outputs": [],
   "source": [
    "getgene(\"N.fasta\",N)"
   ]
  },
  {
   "cell_type": "code",
   "execution_count": 170,
   "metadata": {},
   "outputs": [
    {
     "name": "stdout",
     "output_type": "stream",
     "text": [
      "duplicate records removed!\n",
      "3977 unique records saved from N.fasta\n"
     ]
    }
   ],
   "source": [
    "duplicate_remover(\"N.fasta\")"
   ]
  },
  {
   "cell_type": "markdown",
   "metadata": {},
   "source": [
    "### ORF10"
   ]
  },
  {
   "cell_type": "code",
   "execution_count": 93,
   "metadata": {},
   "outputs": [],
   "source": [
    "ORF10 = {\n",
    "    'ORF10',\n",
    "'ORF10 protein',\n",
    "'orf10',\n",
    "'p10',\n",
    "'p10 protein'\n",
    "    \n",
    "}"
   ]
  },
  {
   "cell_type": "code",
   "execution_count": 94,
   "metadata": {},
   "outputs": [],
   "source": [
    "getgene(\"ORF10.fasta\", ORF10)"
   ]
  },
  {
   "cell_type": "code",
   "execution_count": 95,
   "metadata": {},
   "outputs": [
    {
     "name": "stdout",
     "output_type": "stream",
     "text": [
      "duplicate records removed!\n",
      "1907 unique records saved from ORF10.fasta\n"
     ]
    }
   ],
   "source": [
    "duplicate_remover(\"ORF10.fasta\")"
   ]
  },
  {
   "cell_type": "code",
   "execution_count": null,
   "metadata": {},
   "outputs": [],
   "source": []
  }
 ],
 "metadata": {
  "kernelspec": {
   "display_name": "Python 3",
   "language": "python",
   "name": "python3"
  },
  "language_info": {
   "codemirror_mode": {
    "name": "ipython",
    "version": 3
   },
   "file_extension": ".py",
   "mimetype": "text/x-python",
   "name": "python",
   "nbconvert_exporter": "python",
   "pygments_lexer": "ipython3",
   "version": "3.7.6"
  }
 },
 "nbformat": 4,
 "nbformat_minor": 4
}
