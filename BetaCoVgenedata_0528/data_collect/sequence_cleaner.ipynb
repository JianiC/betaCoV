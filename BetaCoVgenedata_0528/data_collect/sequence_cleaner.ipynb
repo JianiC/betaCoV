{
 "cells": [
  {
   "cell_type": "code",
   "execution_count": 1,
   "metadata": {},
   "outputs": [],
   "source": [
    "from Bio import SeqIO\n",
    "import os,sys"
   ]
  },
  {
   "cell_type": "code",
   "execution_count": 2,
   "metadata": {},
   "outputs": [],
   "source": [
    "## filter by length and propotion of \"N\"\n",
    "## the minimal length of sequence\n",
    "\n",
    "##from https://biopython.org/wiki/Sequence_Cleaner\n",
    "def sequence_cleaner(fasta_file, min_length=0, por_n=100):\n",
    "    output_file = open(\"clear_\" + fasta_file, \"w\")\n",
    "\n",
    "    for seq_record in SeqIO.parse(fasta_file, \"fasta\"):\n",
    "        if (len(seq_record.seq) >= min_length and (float((seq_record.seq).count(\"N\"))/float(len(seq_record.seq)))*100 <= por_n):\n",
    "            output_file.write(\">\" + seq_record.id + \"\\n\" + str(seq_record.seq) + \"\\n\")\n",
    "\n",
    "    print(\"CLEAN!!!\\nPlease check clear_\" + fasta_file)"
   ]
  },
  {
   "cell_type": "raw",
   "metadata": {},
   "source": [
    "### sequence length for each SARS2-Covid\n",
    "https://www.ncbi.nlm.nih.gov/pmc/articles/PMC7161481/\n",
    "ORF1ab: 21290 nt\n",
    "S:3822\n",
    "ORF3a:828\n",
    "E: 228\n",
    "M: 669\n",
    "ORF6a: 186\n",
    "ORF7a: 366 \n",
    "ORF7b: 132\n",
    "ORF8: 193\n",
    "N: 908\n",
    "ORF10: 117\n"
   ]
  },
  {
   "cell_type": "code",
   "execution_count": 3,
   "metadata": {},
   "outputs": [
    {
     "name": "stdout",
     "output_type": "stream",
     "text": [
      "CLEAN!!!\n",
      "Please check clear_taxa_rmORF1ab.fasta\n"
     ]
    }
   ],
   "source": [
    "\n",
    "sequence_cleaner(\"taxa_rmORF1ab.fasta\",21290*0.5,50)"
   ]
  },
  {
   "cell_type": "code",
   "execution_count": 51,
   "metadata": {},
   "outputs": [
    {
     "name": "stdout",
     "output_type": "stream",
     "text": [
      "CLEAN!!!\n",
      "Please check clear_taxa_rmS.fasta\n"
     ]
    }
   ],
   "source": [
    "sequence_cleaner(\"taxa_rmS.fasta\",3822*0.5,50)"
   ]
  },
  {
   "cell_type": "code",
   "execution_count": 52,
   "metadata": {},
   "outputs": [
    {
     "name": "stdout",
     "output_type": "stream",
     "text": [
      "CLEAN!!!\n",
      "Please check clear_taxa_rmORF3a.fasta\n"
     ]
    }
   ],
   "source": [
    "sequence_cleaner(\"taxa_rmORF3a.fasta\",828*0.5,50)"
   ]
  },
  {
   "cell_type": "code",
   "execution_count": 53,
   "metadata": {},
   "outputs": [
    {
     "name": "stdout",
     "output_type": "stream",
     "text": [
      "CLEAN!!!\n",
      "Please check clear_taxa_rmE.fasta\n"
     ]
    }
   ],
   "source": [
    "sequence_cleaner(\"taxa_rmE.fasta\",228*0.5,50)"
   ]
  },
  {
   "cell_type": "code",
   "execution_count": 54,
   "metadata": {},
   "outputs": [
    {
     "name": "stdout",
     "output_type": "stream",
     "text": [
      "CLEAN!!!\n",
      "Please check clear_taxa_rmM.fasta\n"
     ]
    }
   ],
   "source": [
    "sequence_cleaner(\"taxa_rmM.fasta\",669*0.5,50)"
   ]
  },
  {
   "cell_type": "code",
   "execution_count": 55,
   "metadata": {},
   "outputs": [
    {
     "name": "stdout",
     "output_type": "stream",
     "text": [
      "CLEAN!!!\n",
      "Please check clear_taxa_rmORF6a.fasta\n"
     ]
    }
   ],
   "source": [
    "sequence_cleaner(\"taxa_rmORF6a.fasta\",186*0.5,50)"
   ]
  },
  {
   "cell_type": "code",
   "execution_count": 56,
   "metadata": {},
   "outputs": [
    {
     "name": "stdout",
     "output_type": "stream",
     "text": [
      "CLEAN!!!\n",
      "Please check clear_taxa_rmORF7a.fasta\n"
     ]
    }
   ],
   "source": [
    "sequence_cleaner(\"taxa_rmORF7a.fasta\",366*0.5,50)"
   ]
  },
  {
   "cell_type": "code",
   "execution_count": 57,
   "metadata": {},
   "outputs": [
    {
     "name": "stdout",
     "output_type": "stream",
     "text": [
      "CLEAN!!!\n",
      "Please check clear_taxa_rmORF7b.fasta\n"
     ]
    }
   ],
   "source": [
    "sequence_cleaner(\"taxa_rmORF7b.fasta\",132*0.5,50)"
   ]
  },
  {
   "cell_type": "code",
   "execution_count": 58,
   "metadata": {},
   "outputs": [
    {
     "name": "stdout",
     "output_type": "stream",
     "text": [
      "CLEAN!!!\n",
      "Please check clear_taxa_rmORF8.fasta\n"
     ]
    }
   ],
   "source": [
    "sequence_cleaner(\"taxa_rmORF8.fasta\",193*0.5,50)"
   ]
  },
  {
   "cell_type": "code",
   "execution_count": 59,
   "metadata": {},
   "outputs": [
    {
     "name": "stdout",
     "output_type": "stream",
     "text": [
      "CLEAN!!!\n",
      "Please check clear_taxa_rmN.fasta\n"
     ]
    }
   ],
   "source": [
    "sequence_cleaner(\"taxa_rmN.fasta\",908*0.5,50)"
   ]
  },
  {
   "cell_type": "code",
   "execution_count": 60,
   "metadata": {},
   "outputs": [
    {
     "name": "stdout",
     "output_type": "stream",
     "text": [
      "CLEAN!!!\n",
      "Please check clear_taxa_rmORF10.fasta\n"
     ]
    }
   ],
   "source": [
    "sequence_cleaner(\"taxa_rmORF10.fasta\",117*0.5,50)"
   ]
  },
  {
   "cell_type": "code",
   "execution_count": 61,
   "metadata": {},
   "outputs": [],
   "source": []
  },
  {
   "cell_type": "code",
   "execution_count": null,
   "metadata": {},
   "outputs": [],
   "source": [
    "\n"
   ]
  }
 ],
 "metadata": {
  "kernelspec": {
   "display_name": "Python 3",
   "language": "python",
   "name": "python3"
  },
  "language_info": {
   "codemirror_mode": {
    "name": "ipython",
    "version": 3
   },
   "file_extension": ".py",
   "mimetype": "text/x-python",
   "name": "python",
   "nbconvert_exporter": "python",
   "pygments_lexer": "ipython3",
   "version": "3.7.6"
  }
 },
 "nbformat": 4,
 "nbformat_minor": 4
}
